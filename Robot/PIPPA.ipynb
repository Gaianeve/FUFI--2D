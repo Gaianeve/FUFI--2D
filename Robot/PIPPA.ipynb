{
  "nbformat": 4,
  "nbformat_minor": 0,
  "metadata": {
    "colab": {
      "provenance": [],
      "toc_visible": true
    },
    "kernelspec": {
      "name": "python3",
      "display_name": "Python 3"
    },
    "language_info": {
      "name": "python"
    }
  },
  "cells": [
    {
      "cell_type": "markdown",
      "source": [
        "# PIP model 🐾 🤖\n",
        "In this notebook I import and play with my PIP model, designed in blender"
      ],
      "metadata": {
        "id": "7_zU6kpQmyUz"
      }
    },
    {
      "cell_type": "code",
      "execution_count": 1,
      "metadata": {
        "colab": {
          "base_uri": "https://localhost:8080/"
        },
        "id": "5H1rQwPkmayl",
        "outputId": "a8bcdc51-44ad-4fbb-e9c9-5f6307e37527"
      },
      "outputs": [
        {
          "output_type": "stream",
          "name": "stdout",
          "text": [
            "Collecting pybullet\n",
            "  Downloading pybullet-3.2.6-cp310-cp310-manylinux_2_17_x86_64.manylinux2014_x86_64.whl.metadata (1.8 kB)\n",
            "Downloading pybullet-3.2.6-cp310-cp310-manylinux_2_17_x86_64.manylinux2014_x86_64.whl (103.2 MB)\n",
            "\u001b[2K   \u001b[90m━━━━━━━━━━━━━━━━━━━━━━━━━━━━━━━━━━━━━━━━\u001b[0m \u001b[32m103.2/103.2 MB\u001b[0m \u001b[31m5.3 MB/s\u001b[0m eta \u001b[36m0:00:00\u001b[0m\n",
            "\u001b[?25hInstalling collected packages: pybullet\n",
            "Successfully installed pybullet-3.2.6\n"
          ]
        }
      ],
      "source": [
        "!pip install pybullet"
      ]
    },
    {
      "cell_type": "code",
      "source": [
        "import pybullet as p\n",
        "import pybullet_data\n",
        "import numpy as np\n",
        "import os\n",
        "\n",
        "# Connect to PyBullet\n",
        "p.connect(p.DIRECT)\n",
        "\n",
        "# Set additional search path for PyBullet\n",
        "p.setAdditionalSearchPath(pybullet_data.getDataPath())\n",
        "\n",
        "# Load a plane for the simulation\n",
        "p.loadURDF(\"plane.urdf\")\n"
      ],
      "metadata": {
        "colab": {
          "base_uri": "https://localhost:8080/"
        },
        "id": "w6ZW9gnqmh4Y",
        "outputId": "697c0ff3-b19a-4eeb-efba-826f6d6284bf"
      },
      "execution_count": 2,
      "outputs": [
        {
          "output_type": "execute_result",
          "data": {
            "text/plain": [
              "0"
            ]
          },
          "metadata": {},
          "execution_count": 2
        }
      ]
    },
    {
      "cell_type": "code",
      "source": [
        "!git clone https://github.com/Gaianeve/Real_Mega_Fufi.git"
      ],
      "metadata": {
        "colab": {
          "base_uri": "https://localhost:8080/"
        },
        "id": "eOf0ZYeuqKjZ",
        "outputId": "559831eb-ec75-4ee4-f607-e9489ccbcb3f"
      },
      "execution_count": 3,
      "outputs": [
        {
          "output_type": "stream",
          "name": "stdout",
          "text": [
            "Cloning into 'Real_Mega_Fufi'...\n",
            "remote: Enumerating objects: 94, done.\u001b[K\n",
            "remote: Counting objects: 100% (94/94), done.\u001b[K\n",
            "remote: Compressing objects: 100% (83/83), done.\u001b[K\n",
            "remote: Total 94 (delta 32), reused 0 (delta 0), pack-reused 0 (from 0)\u001b[K\n",
            "Receiving objects: 100% (94/94), 461.94 KiB | 4.09 MiB/s, done.\n",
            "Resolving deltas: 100% (32/32), done.\n"
          ]
        }
      ]
    },
    {
      "cell_type": "markdown",
      "source": [
        "## Loading model 📡 🛰"
      ],
      "metadata": {
        "id": "GVaJMroNn4lF"
      }
    },
    {
      "cell_type": "code",
      "source": [
        "%cd Real_Mega_Fufi/Robot/PIPPA"
      ],
      "metadata": {
        "colab": {
          "base_uri": "https://localhost:8080/"
        },
        "id": "Df4k0SJGqUjR",
        "outputId": "8470e0ed-9e42-46ae-e101-bc86f28e0562"
      },
      "execution_count": null,
      "outputs": [
        {
          "output_type": "stream",
          "name": "stdout",
          "text": [
            "/content/Real_Mega_Fufi/Robot/PIPPA\n"
          ]
        }
      ]
    },
    {
      "cell_type": "code",
      "source": [
        "PIPPA_id = p.loadURDF(\"PIPPA_deformable.urdf\")\n"
      ],
      "metadata": {
        "id": "31KyVgJQmx4R",
        "colab": {
          "base_uri": "https://localhost:8080/",
          "height": 141
        },
        "outputId": "1b01d32c-b1dc-417c-e85c-43d30b668b5e"
      },
      "execution_count": 4,
      "outputs": [
        {
          "output_type": "error",
          "ename": "error",
          "evalue": "Cannot load URDF file.",
          "traceback": [
            "\u001b[0;31m---------------------------------------------------------------------------\u001b[0m",
            "\u001b[0;31merror\u001b[0m                                     Traceback (most recent call last)",
            "\u001b[0;32m<ipython-input-4-26b384d1e8fe>\u001b[0m in \u001b[0;36m<cell line: 1>\u001b[0;34m()\u001b[0m\n\u001b[0;32m----> 1\u001b[0;31m \u001b[0mPIPPA_id\u001b[0m \u001b[0;34m=\u001b[0m \u001b[0mp\u001b[0m\u001b[0;34m.\u001b[0m\u001b[0mloadURDF\u001b[0m\u001b[0;34m(\u001b[0m\u001b[0;34m\"PIPPA_deformable.urdf\"\u001b[0m\u001b[0;34m)\u001b[0m\u001b[0;34m\u001b[0m\u001b[0;34m\u001b[0m\u001b[0m\n\u001b[0m",
            "\u001b[0;31merror\u001b[0m: Cannot load URDF file."
          ]
        }
      ]
    },
    {
      "cell_type": "markdown",
      "source": [
        "## Useful info and tools 🎮 📚 🏮"
      ],
      "metadata": {
        "id": "t07vJnlssj0J"
      }
    },
    {
      "cell_type": "code",
      "source": [
        "# Get the number of joints\n",
        "num_joints = p.getNumJoints(PIPPA_id)\n",
        "print(f\"Number of joints: {num_joints}\")\n",
        "\n",
        "# Get information about each joint\n",
        "for joint_index in range(num_joints):\n",
        "    joint_info = p.getJointInfo(PIPPA_id, joint_index)\n",
        "    joint_name = joint_info[1].decode('UTF-8')  # Decode bytes to string\n",
        "    joint_type = joint_info[2]  # Joint type (e.g., revolute, spherical)\n",
        "\n",
        "    print(f\"Joint Index: {joint_index}, Name: {joint_name}, Type: {joint_type}\")"
      ],
      "metadata": {
        "id": "9YoQef4ToKnf"
      },
      "execution_count": null,
      "outputs": []
    },
    {
      "cell_type": "code",
      "source": [
        "# AISI 304 (Acciaio Inox)\n",
        "p.changeDynamics(robot_id, link_index_AISI304, lateralFriction=0.6, restitution=0.1, rollingFriction=0.002, spinningFriction=0.01)\n",
        "\n",
        "# AL 6082 (Alluminio)\n",
        "p.changeDynamics(robot_id, link_index_AL6082, lateralFriction=0.3, restitution=0.05, rollingFriction=0.001, spinningFriction=0.005)"
      ],
      "metadata": {
        "id": "v4hl9tfetDn4"
      },
      "execution_count": null,
      "outputs": []
    },
    {
      "cell_type": "code",
      "source": [
        "# Esempio di aumentare la rigidità e il damping del contatto per simulare un materiale molto rigido\n",
        "p.changeDynamics(\n",
        "    bodyUniqueId=robot_id,\n",
        "    linkIndex=0,  # L'indice del link che vuoi configurare\n",
        "    mass=10.0,  # Imposta una massa realistica per l'acciaio maraging\n",
        "    lateralFriction=0.9,  # Aumenta per materiali con alto attrito\n",
        "    restitution=0.1,  # L'acciaio ha un coefficiente di restituzione basso\n",
        "    contactStiffness=1e6,  # Simula l'alta rigidità dell'acciaio maraging\n",
        "    contactDamping=1e3  # Smorzamento moderato per dissipare energia\n",
        ")\n"
      ],
      "metadata": {
        "id": "rIQXFPBDva87"
      },
      "execution_count": null,
      "outputs": []
    },
    {
      "cell_type": "markdown",
      "source": [
        "## Physics parameters 🎈 🔮\n",
        "\n",
        "1.  `lateralFriction=0.9` 🐑\n",
        "\n",
        "  *   **Descrizione**: Rappresenta il coefficiente di attrito laterale tra il link e la superficie su cui entra in contatto.\n",
        "  *   **Effetto:**  Più alto è il valore, maggiore sarà l'attrito tra il link e la superficie, il che significa che il link resisterà di più allo scivolamento lungo la superficie. Un valore di 1.0 o vicino a esso significa un attrito alto, mentre un valore basso (come 0.1) indica poco attrito, e il link scivolerà più facilmente.\n",
        "\n",
        "  *   **Esempio:** Materiali ruvidi o che non scivolano facilmente, come gomma o superfici ruvide, hanno un coefficiente di attrito più alto. Materiali come ghiaccio o superfici lisce e scivolose avranno un coefficiente basso.\n",
        "\n",
        "*Caso Acciaio*: Il valore 0.9 è abbastanza alto, riflettendo l'alto attrito dell'acciaio maraging a contatto con superfici ruvide o altri metalli.\n",
        "\n",
        "\n",
        "2.  `restitution=0.1` 🐬\n",
        "\n",
        "  *   **Descrizione**: Rappresenta il coefficiente di restituzione, che determina quanto \"rimbalza\" un oggetto dopo un impatto.\n",
        "\n",
        "  *   **Effetto:**  Un valore di 1.0 significa che l'oggetto rimbalza completamente (energia conservata), mentre un valore di 0.0 significa che non c'è rimbalzo (l'energia viene completamente assorbita).\n",
        "\n",
        "  *   **Esempio:** Materiali elastici come la gomma hanno un alto coefficiente di restituzione (vicino a 1.0), mentre materiali rigidi e non elastici come il piombo o l'acciaio hanno un coefficiente basso.\n",
        "\n",
        "*Caso Acciaio*: L'acciaio ha un basso coefficiente di restituzione (intorno a 0.1), il che significa che non rimbalza molto dopo un impatto, riflettendo la sua natura rigida e non elastica.\n",
        "\n",
        "\n",
        "3.  `contactStiffness=1e6` 🐨\n",
        "\n",
        "  *   **Descrizione**: Rappresenta la rigidità del contatto, o quanto è resistente il materiale alla compressione quando viene a contatto con un'altra superficie.\n",
        "\n",
        "  *   **Effetto:**  Un valore più alto significa che il materiale è molto rigido e si deformerà pochissimo durante un contatto (simulando l'effetto di un modulo di Young alto), mentre un valore basso rappresenta materiali più morbidi che si deformano più facilmente.\n",
        "\n",
        "  *   **Esempio:** Materiali come il gommapiuma hanno una bassa rigidità del contatto, mentre materiali molto rigidi come acciaio o ceramica hanno un'alta rigidità.\n",
        "\n",
        "*Caso Acciaio*: Un valore come 1e6 simula una rigidezza molto alta, tipica dell'acciaio maraging, che si deforma molto poco sotto pressione.\n",
        "\n",
        "\n",
        "4.  `contactDamping=1e3` 🦘\n",
        "  \n",
        "  *   **Descrizione**: Rappresenta lo smorzamento del contatto, che controlla quanto velocemente l'energia del contatto viene dissipata nel tempo.\n",
        "\n",
        "  *   **Effetto:** Un valore più alto significa che il contatto perde energia rapidamente, smorzando le vibrazioni o il rimbalzo. Un valore basso implica che il sistema è più elastico e manterrà energia più a lungo.\n",
        "\n",
        "  *   **Esempio:** Un materiale molto elastico, come una molla ben tesa, ha uno smorzamento basso, il che significa che rimbalza e vibra a lungo. Un materiale con alto smorzamento, come l'acciaio, disperde rapidamente energia durante un impatto, quindi non rimbalza molto e smorza le vibrazioni.\n",
        "\n",
        "*Caso Acciaio*: Il valore 1e3 rappresenta uno smorzamento moderato, coerente con il comportamento dell'acciaio maraging, che dissipa energia abbastanza rapidamente senza rimbalzi significativi.\n",
        "\n",
        "\n"
      ],
      "metadata": {
        "id": "_RWpNau5wRuS"
      }
    },
    {
      "cell_type": "code",
      "source": [
        "# Parametri per Alluminio 6082 (polli)\n",
        "p.changeDynamics(robot_id, linkIndexPolli,\n",
        "                 lateralFriction=0.5,  # Attrito laterale stimato\n",
        "                 restitution=0.3,      # Coefficiente di restituzione\n",
        "                 contactStiffness=3e6, # Rigidezza di contatto\n",
        "                 contactDamping=800)   # Damping di contatto\n",
        "\n",
        "# Parametri per AISI 304 (pillo)\n",
        "p.changeDynamics(robot_id, linkIndexPillo,\n",
        "                 lateralFriction=0.4,  # Attrito laterale stimato\n",
        "                 restitution=0.2,      # Coefficiente di restituzione\n",
        "                 contactStiffness=8e6, # Rigidezza di contatto\n",
        "                 contactDamping=1500)  # Damping di contatto\n",
        "\n",
        "# Imposta i parametri per il link in acciaio maraging (puzzola)\n",
        "p.changeDynamics(\n",
        "    bodyUniqueId,\n",
        "    linkIndexPuzzola,\n",
        "    lateralFriction=0.3,        # Coefficiente di attrito laterale\n",
        "    restitution=0.1,            # Coefficiente di restituzione\n",
        "    contactStiffness=1.5e7,     # Rigidezza di contatto\n",
        "    contactDamping=1500,        # Damping di contatto\n",
        "    linearDamping=0.03,         # Damping lineare\n",
        "    angularDamping=0.15         # Damping angolare\n",
        ")\n"
      ],
      "metadata": {
        "id": "bVPJNwD_vKvS"
      },
      "execution_count": null,
      "outputs": []
    }
  ]
}