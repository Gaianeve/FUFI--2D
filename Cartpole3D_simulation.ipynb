{
  "nbformat": 4,
  "nbformat_minor": 0,
  "metadata": {
    "colab": {
      "provenance": []
    },
    "kernelspec": {
      "name": "python3",
      "display_name": "Python 3"
    },
    "language_info": {
      "name": "python"
    }
  },
  "cells": [
    {
      "cell_type": "markdown",
      "source": [
        "# 3D Cartpole Robot 🤖 🐬\n",
        "In this colab i put up a simulated 3D cartpole. The cart can slide freely on the ground plane without any friction; the pole is free to rotate in the plane above the cart."
      ],
      "metadata": {
        "id": "SVdJUv7Va4vC"
      }
    },
    {
      "cell_type": "markdown",
      "source": [
        "##Burocrazia 🔖 🐧\n",
        "1. ⚙ ⚙ Installing `pybullet`\n",
        "2. 📡 setting uo the connection with the engine\n",
        "\n",
        "  🛑 *Colab does not support the `p.GUI` mode, so the only option is `p.DIRECT`: no big deal, u just can render the thing in real time*\n",
        "\n",
        "3. 🌐 Setting up the ground plane"
      ],
      "metadata": {
        "id": "zHBF8i0Ja8so"
      }
    },
    {
      "cell_type": "code",
      "source": [
        "!pip install pybullet"
      ],
      "metadata": {
        "colab": {
          "base_uri": "https://localhost:8080/"
        },
        "id": "S_7VpEKSa_p-",
        "outputId": "2d27751c-38cd-4b56-e4a6-9c74827f4eb5"
      },
      "execution_count": 9,
      "outputs": [
        {
          "output_type": "stream",
          "name": "stdout",
          "text": [
            "Requirement already satisfied: pybullet in /usr/local/lib/python3.10/dist-packages (3.2.6)\n"
          ]
        }
      ]
    },
    {
      "cell_type": "code",
      "execution_count": 29,
      "metadata": {
        "colab": {
          "base_uri": "https://localhost:8080/"
        },
        "id": "iG9WRvXHZZRB",
        "outputId": "cb24b7e6-9f1e-4a75-9fbb-60c683bbe05d"
      },
      "outputs": [
        {
          "output_type": "execute_result",
          "data": {
            "text/plain": [
              "0"
            ]
          },
          "metadata": {},
          "execution_count": 29
        }
      ],
      "source": [
        "import pybullet as p\n",
        "import pybullet_data\n",
        "import numpy as np\n",
        "\n",
        "# Connect to PyBullet\n",
        "p.connect(p.DIRECT)\n",
        "\n",
        "# Set additional search path for PyBullet\n",
        "p.setAdditionalSearchPath(pybullet_data.getDataPath())\n",
        "\n",
        "# Load a plane for the simulation\n",
        "p.loadURDF(\"plane.urdf\")\n"
      ]
    },
    {
      "cell_type": "markdown",
      "source": [
        "## Oggettini 🪄 🐏\n",
        "Declaring parameters for the object that i want and creating them in the space i just set up. The parameters are that of the standard cartole problem.\n",
        "\n",
        "*   🦘 🕋   Declaring a *cart*: a box of shape `[x,y,z] =  [0.5, 0.5, 0.2]`. I put it just above the ground plane 🛸 so that we can ignore the friction.\n",
        "\n",
        "*   🐘 🪐   Declaring a *pole* attached to the cart: a cilynder of shape `[x,y,z]  =  [0.5, 0.5, 0.1]`\n",
        "\n",
        "*   ⚙ 🏯 🦊 Add *joints* between the cart and the pole. The pole can rotate in a plane and not just on one axis, so we have to declare a spherical joint\n",
        "\n",
        "\n",
        "\n",
        "\n",
        "\n",
        "🛑 *Spherical joints are not easy to limitate, check double before code. However, for now, it's the easiest solution for the rotation in all of the plane.*"
      ],
      "metadata": {
        "id": "YtgVdUFfbEPR"
      }
    },
    {
      "cell_type": "code",
      "source": [
        "# Define cartpole parameters\n",
        "mass_cart = 1\n",
        "cart_size = [0.5, 0.5, 0.2]\n",
        "mass_pole = 0.1\n",
        "pole_size = [0.05, 0.05, 1.0]\n",
        "cart_position = [0, 0, 0.1]  # Slightly above the ground\n",
        "pole_position = [0, 0, 0.5]  # on the center of the cart\n",
        "\n",
        "# Create the cart (base)\n",
        "cart_collision_shape = p.createCollisionShape(p.GEOM_BOX, halfExtents=[s / 2 for s in cart_size])\n",
        "\n",
        "print(cart_collision_shape)\n",
        "cart_visual_shape = p.createVisualShape(p.GEOM_BOX, halfExtents=[s / 2 for s in cart_size], rgbaColor=[0, 1, 1, 1])\n",
        "print(cart_visual_shape)\n",
        "# Create the pole (link)\n",
        "pole_collision_shape = p.createCollisionShape(p.GEOM_BOX, halfExtents=[s / 2 for s in pole_size])\n",
        "print(pole_collision_shape)\n",
        "pole_visual_shape = p.createVisualShape(p.GEOM_BOX, halfExtents=[s / 2 for s in pole_size], rgbaColor=[1, 0.5, 0, 1])\n",
        "print(pole_visual_shape)\n",
        "\n",
        "# Center of mass for the pole will be halfway along its length\n",
        "pole_inertial_frame_position = [0, 0, -pole_size[2] / 2]  # Center of mass is halfway along the pole\n",
        "\n",
        "# Create the cart-pole system with a spherical joint for full rotation\n",
        "# Create the cart-pole system with a spherical joint for full rotation\n",
        "cartpole_id = p.createMultiBody(\n",
        "    baseMass=mass_cart,\n",
        "    baseCollisionShapeIndex=cart_collision_shape,\n",
        "    baseVisualShapeIndex=cart_visual_shape,\n",
        "    basePosition=cart_position,\n",
        "    baseInertialFramePosition=[0, 0, 0],  # Base Inertia (no offset needed for the cart)\n",
        "\n",
        "    # Link 1: Pole with spherical joint\n",
        "    linkMasses=[mass_pole],  # Pole's mass\n",
        "    linkCollisionShapeIndices=[pole_collision_shape],  # Collision shape of the pole\n",
        "    linkVisualShapeIndices=[pole_visual_shape],  # Visual shape of the pole\n",
        "    linkPositions=[[0, 0, cart_size[2] / 2]],  # Pole position relative to the cart\n",
        "    linkOrientations=[[0, 0, 0, 1]],  # Orientation of the pole\n",
        "    linkInertialFramePositions=[pole_inertial_frame_position],  # Inertia offset for the pole\n",
        "    linkInertialFrameOrientations=[[0, 0, 0, 1]],  # Inertial orientation of the pole\n",
        "    linkParentIndices=[0],  # Linked to the cart (base index = 0)\n",
        "    linkJointTypes=[p.JOINT_SPHERICAL],  # Spherical joint for full 3D rotation\n",
        "    linkJointAxis=[[0, 0, 0]]  # Spherical joint doesn't need an axis definition\n",
        ")\n",
        "\n",
        "\n"
      ],
      "metadata": {
        "colab": {
          "base_uri": "https://localhost:8080/"
        },
        "id": "lsANCacqluAb",
        "outputId": "81895f54-7733-44c0-8b7a-315a1dbeb7bb"
      },
      "execution_count": 30,
      "outputs": [
        {
          "output_type": "stream",
          "name": "stdout",
          "text": [
            "0\n",
            "0\n",
            "1\n",
            "1\n"
          ]
        }
      ]
    },
    {
      "cell_type": "markdown",
      "source": [
        "##useful information and how to retrieve them 🔖 🪃"
      ],
      "metadata": {
        "id": "3DmJ5ZloHL8h"
      }
    },
    {
      "cell_type": "code",
      "source": [
        "# Get the number of joints\n",
        "num_joints = p.getNumJoints(cartpole_id)\n",
        "print(f\"Number of joints: {num_joints}\")\n",
        "\n",
        "# Get information about each joint\n",
        "for joint_index in range(num_joints):\n",
        "    joint_info = p.getJointInfo(cartpole_id, joint_index)\n",
        "    joint_name = joint_info[1].decode('UTF-8')  # Decode bytes to string\n",
        "    joint_type = joint_info[2]  # Joint type (e.g., revolute, spherical)\n",
        "\n",
        "    print(f\"Joint Index: {joint_index}, Name: {joint_name}, Type: {joint_type}\")\n",
        "\n",
        "#reset joint state to the position and velocity i give him\n",
        "p.resetJointState(cartpole_id, 0,  0.1, 0.3)  # Example values\n",
        "\n",
        "# Get the position and orientation of the cart (base)\n",
        "cart_position, cart_orientation = p.getBasePositionAndOrientation(cartpole_id)\n",
        "\n",
        "# Get the velocity (linear and angular) of the cart (base)\n",
        "cart_linear_velocity, cart_angular_velocity = p.getBaseVelocity(cartpole_id)\n",
        "\n",
        "# Get the position, orientation, and velocity (linear and angular) of the pole (link 1)\n",
        "pole_link_state = p.getLinkState(cartpole_id, 0, computeLinkVelocity=True)\n",
        "pole_position = pole_link_state[0]  # Position of the pole\n",
        "pole_orientation = pole_link_state[1]  # Orientation of the pole\n",
        "pole_linear_velocity = pole_link_state[6]  # Linear velocity of the pole\n",
        "pole_angular_velocity = pole_link_state[7]  # Angular velocity of the pole\n",
        "\n",
        "# Print the positions and velocities of the cart and the pole\n",
        "print(\"Cart Position:\", cart_position)\n",
        "print(\"Cart Orientation (Quaternion):\", cart_orientation)\n",
        "print(\"Cart Linear Velocity:\", cart_linear_velocity)\n",
        "print(\"Cart Angular Velocity:\", cart_angular_velocity)\n",
        "print(\"Pole Position:\", pole_position)\n",
        "print(\"Pole Orientation (Quaternion):\", pole_orientation)\n",
        "print(\"Pole Linear Velocity:\", pole_linear_velocity)\n",
        "print(\"Pole Angular Velocity:\", pole_angular_velocity)\n",
        "print()\n",
        "\n",
        "print(cart_position[0:2])"
      ],
      "metadata": {
        "colab": {
          "base_uri": "https://localhost:8080/"
        },
        "id": "jHYgcSkEHMSU",
        "outputId": "832dd8fc-68e3-4eeb-c9ec-fbdb36641312"
      },
      "execution_count": 35,
      "outputs": [
        {
          "output_type": "stream",
          "name": "stdout",
          "text": [
            "Number of joints: 1\n",
            "Joint Index: 0, Name: joint1, Type: 2\n",
            "Cart Position: (0.0, 0.0, 0.1)\n",
            "Cart Orientation (Quaternion): (0.0, 0.0, 0.0, 1.0)\n",
            "Cart Linear Velocity: (0.0, 0.0, 0.0)\n",
            "Cart Angular Velocity: (0.0, 0.0, 0.0)\n",
            "Pole Position: (0.0, 0.0, -0.30000000000000004)\n",
            "Pole Orientation (Quaternion): (0.0, 0.0, 0.0, 1.0)\n",
            "Pole Linear Velocity: (0.0, 0.0, 0.0)\n",
            "Pole Angular Velocity: (0.0, 0.0, 0.0)\n",
            "\n",
            "(0.0, 0.0)\n"
          ]
        }
      ]
    },
    {
      "cell_type": "markdown",
      "source": [
        "## Start simulation 🚀 🪖\n",
        "Adding gravity 🍎 ⬇ to the system and starting the physics simulation 🏃 🔥 🛕 ⛩ ⛪ .\n",
        "\n",
        "In the simulation i retrieve the state of the cart (base) and the pole (link) trough the function `getBase...` and `getLink...`\n"
      ],
      "metadata": {
        "id": "dcIoQCx7cniu"
      }
    },
    {
      "cell_type": "code",
      "source": [
        "# Set gravity for the simulation\n",
        "p.setGravity(0, 0, -9.81)\n",
        "\n",
        "p.resetSimulation()\n",
        "\n",
        "randstate_position = np.random.uniform(low=-0.05, high=0.05, size=(3,))\n",
        "print(randstate_position)\n",
        "randstate_velocity = np.random.uniform(low=-0.05, high=0.05, size=(3,))\n",
        "# Resetting the joint state for the cart (base)\n",
        "p.resetJointState(cartpole_id, 0,  0.1, 0.3)  # Example values\n",
        "\n",
        "# Resetting the joint state for the pole (assuming it's index 1)\n",
        "p.resetJointState(cartpole_id, 1, 0.2, 0.4)\n",
        "\n",
        "'''\n",
        "# Run the simulation and track the position, orientation, and velocity\n",
        "for step in range(10):\n",
        "    p.stepSimulation()\n",
        "\n",
        "    # Get the position and orientation of the cart (base)\n",
        "    cart_position, cart_orientation = p.getBasePositionAndOrientation(cartpole_id)\n",
        "\n",
        "    # Get the velocity (linear and angular) of the cart (base)\n",
        "    cart_linear_velocity, cart_angular_velocity = p.getBaseVelocity(cartpole_id)\n",
        "\n",
        "    # Get the position, orientation, and velocity (linear and angular) of the pole (link 1)\n",
        "    pole_link_state = p.getLinkState(cartpole_id, 0, computeLinkVelocity=True)\n",
        "    pole_position = pole_link_state[0]  # Position of the pole\n",
        "    pole_orientation = pole_link_state[1]  # Orientation of the pole\n",
        "    pole_linear_velocity = pole_link_state[6]  # Linear velocity of the pole\n",
        "    pole_angular_velocity = pole_link_state[7]  # Angular velocity of the pole\n",
        "\n",
        "    # Print the positions and velocities of the cart and the pole\n",
        "    print(\"Cart Position:\", cart_position)\n",
        "    print(\"Cart Orientation (Quaternion):\", cart_orientation)\n",
        "    print(\"Cart Linear Velocity:\", cart_linear_velocity)\n",
        "    print(\"Cart Angular Velocity:\", cart_angular_velocity)\n",
        "    print(\"Pole Position:\", pole_position)\n",
        "    print(\"Pole Orientation (Quaternion):\", pole_orientation)\n",
        "    print(\"Pole Linear Velocity:\", pole_linear_velocity)\n",
        "    print(\"Pole Angular Velocity:\", pole_angular_velocity)\n",
        "    print()\n",
        "'''\n",
        "p.disconnect()\n"
      ],
      "metadata": {
        "colab": {
          "base_uri": "https://localhost:8080/",
          "height": 245
        },
        "id": "b91MlSWYly5s",
        "outputId": "dc2a8412-475f-4e88-d3bd-6d436ad8cb42"
      },
      "execution_count": 27,
      "outputs": [
        {
          "output_type": "stream",
          "name": "stdout",
          "text": [
            "0\n",
            "[-0.00713148 -0.04438448  0.03860238]\n"
          ]
        },
        {
          "output_type": "error",
          "ename": "error",
          "evalue": "Joint index out-of-range.",
          "traceback": [
            "\u001b[0;31m---------------------------------------------------------------------------\u001b[0m",
            "\u001b[0;31merror\u001b[0m                                     Traceback (most recent call last)",
            "\u001b[0;32m<ipython-input-27-ff905437afc7>\u001b[0m in \u001b[0;36m<cell line: 12>\u001b[0;34m()\u001b[0m\n\u001b[1;32m     10\u001b[0m \u001b[0mrandstate_velocity\u001b[0m \u001b[0;34m=\u001b[0m \u001b[0mnp\u001b[0m\u001b[0;34m.\u001b[0m\u001b[0mrandom\u001b[0m\u001b[0;34m.\u001b[0m\u001b[0muniform\u001b[0m\u001b[0;34m(\u001b[0m\u001b[0mlow\u001b[0m\u001b[0;34m=\u001b[0m\u001b[0;34m-\u001b[0m\u001b[0;36m0.05\u001b[0m\u001b[0;34m,\u001b[0m \u001b[0mhigh\u001b[0m\u001b[0;34m=\u001b[0m\u001b[0;36m0.05\u001b[0m\u001b[0;34m,\u001b[0m \u001b[0msize\u001b[0m\u001b[0;34m=\u001b[0m\u001b[0;34m(\u001b[0m\u001b[0;36m3\u001b[0m\u001b[0;34m,\u001b[0m\u001b[0;34m)\u001b[0m\u001b[0;34m)\u001b[0m\u001b[0;34m\u001b[0m\u001b[0;34m\u001b[0m\u001b[0m\n\u001b[1;32m     11\u001b[0m \u001b[0;31m# Resetting the joint state for the cart (base)\u001b[0m\u001b[0;34m\u001b[0m\u001b[0;34m\u001b[0m\u001b[0m\n\u001b[0;32m---> 12\u001b[0;31m \u001b[0mp\u001b[0m\u001b[0;34m.\u001b[0m\u001b[0mresetJointState\u001b[0m\u001b[0;34m(\u001b[0m\u001b[0mcartpole_id\u001b[0m\u001b[0;34m,\u001b[0m \u001b[0;36m0\u001b[0m\u001b[0;34m,\u001b[0m  \u001b[0;36m0.1\u001b[0m\u001b[0;34m,\u001b[0m \u001b[0;36m0.3\u001b[0m\u001b[0;34m)\u001b[0m  \u001b[0;31m# Example values\u001b[0m\u001b[0;34m\u001b[0m\u001b[0;34m\u001b[0m\u001b[0m\n\u001b[0m\u001b[1;32m     13\u001b[0m \u001b[0;34m\u001b[0m\u001b[0m\n\u001b[1;32m     14\u001b[0m \u001b[0;31m# Resetting the joint state for the pole (assuming it's index 1)\u001b[0m\u001b[0;34m\u001b[0m\u001b[0;34m\u001b[0m\u001b[0m\n",
            "\u001b[0;31merror\u001b[0m: Joint index out-of-range."
          ]
        }
      ]
    },
    {
      "cell_type": "code",
      "source": [],
      "metadata": {
        "id": "TfHL8JkJn69Q"
      },
      "execution_count": null,
      "outputs": []
    }
  ]
}